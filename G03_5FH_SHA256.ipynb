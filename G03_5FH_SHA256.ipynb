{
  "nbformat": 4,
  "nbformat_minor": 0,
  "metadata": {
    "colab": {
      "provenance": []
    },
    "kernelspec": {
      "name": "python3",
      "display_name": "Python 3"
    },
    "language_info": {
      "name": "python"
    }
  },
  "cells": [
    {
      "cell_type": "code",
      "source": [
        "#Lorem ipsum\n",
        "!pip install lorem-text"
      ],
      "metadata": {
        "colab": {
          "base_uri": "https://localhost:8080/"
        },
        "id": "oRViCkZ-m3R2",
        "outputId": "1de8464a-ae2b-43fa-eb04-389d5c51b006"
      },
      "execution_count": null,
      "outputs": [
        {
          "output_type": "stream",
          "name": "stdout",
          "text": [
            "Looking in indexes: https://pypi.org/simple, https://us-python.pkg.dev/colab-wheels/public/simple/\n",
            "Collecting lorem-text\n",
            "  Downloading lorem_text-2.1-py2.py3-none-any.whl (6.0 kB)\n",
            "Requirement already satisfied: Click>=7.0 in /usr/local/lib/python3.10/dist-packages (from lorem-text) (8.1.3)\n",
            "Installing collected packages: lorem-text\n",
            "Successfully installed lorem-text-2.1\n"
          ]
        }
      ]
    },
    {
      "cell_type": "code",
      "source": [
        "import time\n",
        "import hashlib"
      ],
      "metadata": {
        "id": "Of6DouvEoyU1"
      },
      "execution_count": null,
      "outputs": []
    },
    {
      "cell_type": "code",
      "source": [
        "from lorem_text import lorem\n",
        "\n",
        "# Generar un texto de estilo \"Lorem Ipsum\" con un número específico de palabras\n",
        "def generar_lorem(num_palabras):\n",
        "    texto = lorem.words(num_palabras)\n",
        "    return texto"
      ],
      "metadata": {
        "id": "5djMHYuwm_mq"
      },
      "execution_count": null,
      "outputs": []
    },
    {
      "cell_type": "markdown",
      "source": [
        "##1. Leer un archivo con el texto del mensaje a cifrar."
      ],
      "metadata": {
        "id": "PyyeiZgDrmaE"
      }
    },
    {
      "cell_type": "code",
      "source": [
        "numPalabras = int(input(\"Ingrese el numero de palabras a encriptar:\"))"
      ],
      "metadata": {
        "colab": {
          "base_uri": "https://localhost:8080/"
        },
        "id": "aySE0k-6yqdu",
        "outputId": "ffaab24a-9ca4-4c7d-b400-ed96a5be5237"
      },
      "execution_count": null,
      "outputs": [
        {
          "name": "stdout",
          "output_type": "stream",
          "text": [
            "Ingrese el numero de palabras a encriptar:1000000\n"
          ]
        }
      ]
    },
    {
      "cell_type": "code",
      "source": [
        "inicio = time.time()\n",
        "\n",
        "mensaje = generar_lorem(numPalabras).encode()\n",
        "\n",
        "fin = time.time()\n",
        "duracion = fin - inicio\n",
        "print(\"Tiempo de ejecución:\", duracion*1000, \"milisegundos\")"
      ],
      "metadata": {
        "colab": {
          "base_uri": "https://localhost:8080/"
        },
        "id": "ANuxUKcCnDXy",
        "outputId": "6729e685-5ca8-4b8f-95d7-dcfa56e2f45d"
      },
      "execution_count": null,
      "outputs": [
        {
          "output_type": "stream",
          "name": "stdout",
          "text": [
            "Tiempo de ejecución: 478.5909652709961 milisegundos\n"
          ]
        }
      ]
    },
    {
      "cell_type": "markdown",
      "source": [
        "##2. Generar e imprimir la(las) claves de cifrado y/o descifrado."
      ],
      "metadata": {
        "id": "t56Ul9NNr1dZ"
      }
    },
    {
      "cell_type": "code",
      "source": [
        "inicio = time.time()\n",
        "\n",
        "sha256 = hashlib.sha256()\n",
        "print('Objeto:',sha256)\n",
        "\n",
        "fin = time.time()\n",
        "duracion = fin - inicio\n",
        "print(\"Tiempo de ejecución:\", duracion*1000, \"milisegundos\")"
      ],
      "metadata": {
        "colab": {
          "base_uri": "https://localhost:8080/"
        },
        "id": "atwpbPWLr4dO",
        "outputId": "b778f3ba-d965-4859-c965-c5ec6f18f854"
      },
      "execution_count": null,
      "outputs": [
        {
          "output_type": "stream",
          "name": "stdout",
          "text": [
            "Objeto: <sha256 _hashlib.HASH object @ 0x7efbf8f55b50>\n",
            "Tiempo de ejecución: 1.5795230865478516 milisegundos\n"
          ]
        }
      ]
    },
    {
      "cell_type": "markdown",
      "source": [
        "##3. Cifrar e imprimir el texto."
      ],
      "metadata": {
        "id": "2g9QQKPbrnsm"
      }
    },
    {
      "cell_type": "code",
      "execution_count": null,
      "metadata": {
        "colab": {
          "base_uri": "https://localhost:8080/"
        },
        "id": "KmHgqrgel9UD",
        "outputId": "63633585-5067-4c21-964e-fab2acbe2c4a"
      },
      "outputs": [
        {
          "output_type": "stream",
          "name": "stdout",
          "text": [
            "Hash: 4d88023d680ff6266196ffda8731f19cfeabf549316b1653798f174b0b8967c8\n",
            "Tiempo de ejecución: 41.28861427307129 milisegundos\n"
          ]
        }
      ],
      "source": [
        "inicio = time.time()\n",
        "\n",
        "sha256.update(mensaje)\n",
        "hash_sha256 = sha256.hexdigest()\n",
        "print('Hash:',hash_sha256)\n",
        "\n",
        "fin = time.time()\n",
        "duracion = fin - inicio\n",
        "print(\"Tiempo de ejecución:\", duracion*1000, \"milisegundos\")"
      ]
    }
  ]
}