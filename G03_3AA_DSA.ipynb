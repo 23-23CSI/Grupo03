{
  "nbformat": 4,
  "nbformat_minor": 0,
  "metadata": {
    "colab": {
      "provenance": []
    },
    "kernelspec": {
      "name": "python3",
      "display_name": "Python 3"
    },
    "language_info": {
      "name": "python"
    }
  },
  "cells": [
    {
      "cell_type": "code",
      "source": [
        "#Lorem ipsum\n",
        "!pip install lorem-text"
      ],
      "metadata": {
        "colab": {
          "base_uri": "https://localhost:8080/"
        },
        "id": "hwwt4mkgh7gA",
        "outputId": "97b51b62-4b6f-4433-b226-c2e34557596a"
      },
      "execution_count": null,
      "outputs": [
        {
          "output_type": "stream",
          "name": "stdout",
          "text": [
            "Looking in indexes: https://pypi.org/simple, https://us-python.pkg.dev/colab-wheels/public/simple/\n",
            "Collecting lorem-text\n",
            "  Downloading lorem_text-2.1-py2.py3-none-any.whl (6.0 kB)\n",
            "Requirement already satisfied: Click>=7.0 in /usr/local/lib/python3.10/dist-packages (from lorem-text) (8.1.3)\n",
            "Installing collected packages: lorem-text\n",
            "Successfully installed lorem-text-2.1\n"
          ]
        }
      ]
    },
    {
      "cell_type": "code",
      "execution_count": null,
      "metadata": {
        "id": "64weflf3bqUm"
      },
      "outputs": [],
      "source": [
        "# DSA\n",
        "from cryptography.hazmat.backends import default_backend\n",
        "from cryptography.hazmat.primitives import hashes\n",
        "from cryptography.hazmat.primitives.asymmetric import dsa\n",
        "from cryptography.hazmat.primitives.asymmetric import rsa\n",
        "from cryptography.hazmat.primitives import serialization"
      ]
    },
    {
      "cell_type": "code",
      "source": [
        "import time"
      ],
      "metadata": {
        "id": "tEq2qThkdzpH"
      },
      "execution_count": null,
      "outputs": []
    },
    {
      "cell_type": "code",
      "source": [
        "from lorem_text import lorem\n",
        "\n",
        "def generar_lorem(num_palabras):\n",
        "    texto = lorem.words(num_palabras)\n",
        "    return texto"
      ],
      "metadata": {
        "id": "42JCJbg_clUm"
      },
      "execution_count": null,
      "outputs": []
    },
    {
      "cell_type": "markdown",
      "source": [
        "##1. Leer un archivo con el texto del mensaje a cifrar."
      ],
      "metadata": {
        "id": "eIgQBO5ueeau"
      }
    },
    {
      "cell_type": "code",
      "source": [
        "numPalabras = int(input(\"Ingrese el numero de palabras a encriptar:\"))"
      ],
      "metadata": {
        "colab": {
          "base_uri": "https://localhost:8080/"
        },
        "id": "fCF_bFXjykKQ",
        "outputId": "d9eebdf8-9d27-4fdc-a2a2-6fd27ca0c02f"
      },
      "execution_count": null,
      "outputs": [
        {
          "name": "stdout",
          "output_type": "stream",
          "text": [
            "Ingrese el numero de palabras a encriptar:1000000\n"
          ]
        }
      ]
    },
    {
      "cell_type": "code",
      "source": [
        "inicio = time.time()\n",
        "\n",
        "mensaje = generar_lorem(numPalabras).encode()\n",
        "\n",
        "fin = time.time()\n",
        "\n",
        "duracion = fin - inicio\n",
        "\n",
        "print(\"Tiempo de ejecución:\", duracion*1000, \"milisegundos\")"
      ],
      "metadata": {
        "colab": {
          "base_uri": "https://localhost:8080/"
        },
        "id": "bTznnUwmd3RB",
        "outputId": "3fcc1bea-f8ff-45cc-d6d4-bbe04142cfb3"
      },
      "execution_count": null,
      "outputs": [
        {
          "output_type": "stream",
          "name": "stdout",
          "text": [
            "Tiempo de ejecución: 597.5403785705566 milisegundos\n"
          ]
        }
      ]
    },
    {
      "cell_type": "markdown",
      "source": [
        "##2. Generar e imprimir la(las) claves de cifrado y/o descifrado."
      ],
      "metadata": {
        "id": "hBEh29fHebGk"
      }
    },
    {
      "cell_type": "code",
      "source": [
        "inicio = time.time()\n",
        "\n",
        "clave_privada = dsa.generate_private_key(key_size=1024)\n",
        "print('Clave privada:', clave_privada)\n",
        "\n",
        "clave_publica = clave_privada.public_key()\n",
        "print('Clave publica:', clave_publica)\n",
        "\n",
        "fin = time.time()\n",
        "\n",
        "duracion = fin - inicio\n",
        "\n",
        "print(\"Tiempo de ejecución:\", duracion*1000, \"milisegundos\")"
      ],
      "metadata": {
        "colab": {
          "base_uri": "https://localhost:8080/"
        },
        "id": "ldS9ojAfd3MW",
        "outputId": "da1d45ea-05c6-4103-c44f-ca628d80b901"
      },
      "execution_count": null,
      "outputs": [
        {
          "output_type": "stream",
          "name": "stdout",
          "text": [
            "Clave privada: <cryptography.hazmat.backends.openssl.dsa._DSAPrivateKey object at 0x7f2c60f7e9b0>\n",
            "Clave publica: <cryptography.hazmat.backends.openssl.dsa._DSAPublicKey object at 0x7f2c60f7fca0>\n",
            "Tiempo de ejecución: 179.9027919769287 milisegundos\n"
          ]
        }
      ]
    },
    {
      "cell_type": "markdown",
      "source": [
        "##3. Cifrar e imprimir el texto."
      ],
      "metadata": {
        "id": "9cZWuh2Zehk1"
      }
    },
    {
      "cell_type": "code",
      "source": [
        "inicio = time.time()\n",
        "\n",
        "firma = clave_privada.sign(\n",
        "    mensaje,\n",
        "    hashes.SHA256()\n",
        ")\n",
        "print('Firma digital:', firma)\n",
        "\n",
        "fin = time.time()\n",
        "\n",
        "duracion = fin - inicio\n",
        "\n",
        "print(\"Tiempo de ejecución:\", duracion*1000, \"milisegundos\")"
      ],
      "metadata": {
        "colab": {
          "base_uri": "https://localhost:8080/"
        },
        "id": "9OYNghb1d3Fh",
        "outputId": "28102939-47dd-4067-cdad-02ddcb598ce1"
      },
      "execution_count": null,
      "outputs": [
        {
          "output_type": "stream",
          "name": "stdout",
          "text": [
            "Firma digital: b'0,\\x02\\x14\\x15?\\xcb\\xc9\\xf6\\x9aJ\\xdd\\xac:\\xce\\xcfhx\\xfd\\x1a\\xc0\\x1d\\xe7e\\x02\\x14\\x13\\x8eQ\\xa6~\\xe3Y\\x0f\\x17\\xfd\\x1a\\xf0\\x83\\x8dc\\x95\\x9c/\\x11\\xc8'\n",
            "Tiempo de ejecución: 25.570392608642578 milisegundos\n"
          ]
        }
      ]
    },
    {
      "cell_type": "markdown",
      "source": [
        "##4. Descifrar e imprimir el texto."
      ],
      "metadata": {
        "id": "nm8VzYaiekmA"
      }
    },
    {
      "cell_type": "code",
      "source": [
        "inicio = time.time()\n",
        "\n",
        "#DSA no desencripta el mensaje, sin embargo, podemos verificar que una firma sea valida\n",
        "try:\n",
        "    clave_publica.verify(\n",
        "      firma,\n",
        "      mensaje,\n",
        "      hashes.SHA256()\n",
        "    ) \n",
        "    print(\"La firma es valida.\")\n",
        "except Exception:\n",
        "  print(\"La firma no es valida\")\n",
        "\n",
        "fin = time.time()\n",
        "\n",
        "duracion = fin - inicio\n",
        "\n",
        "print(\"Tiempo de ejecución:\", duracion*1000, \"milisegundos\")"
      ],
      "metadata": {
        "colab": {
          "base_uri": "https://localhost:8080/"
        },
        "id": "3WJbMHRwd27o",
        "outputId": "c6e3dd2d-f968-4b51-fe17-e665d753d0bb"
      },
      "execution_count": null,
      "outputs": [
        {
          "output_type": "stream",
          "name": "stdout",
          "text": [
            "La firma es valida.\n",
            "Tiempo de ejecución: 28.223037719726562 milisegundos\n"
          ]
        }
      ]
    }
  ]
}