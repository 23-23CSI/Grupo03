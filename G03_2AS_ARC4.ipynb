{
  "nbformat": 4,
  "nbformat_minor": 0,
  "metadata": {
    "colab": {
      "provenance": []
    },
    "kernelspec": {
      "name": "python3",
      "display_name": "Python 3"
    },
    "language_info": {
      "name": "python"
    }
  },
  "cells": [
    {
      "cell_type": "code",
      "source": [
        "# ARC4\n",
        "!pip install pycryptodome\n",
        "\n",
        "#Lorem ipsum\n",
        "!pip install lorem-text"
      ],
      "metadata": {
        "colab": {
          "base_uri": "https://localhost:8080/"
        },
        "id": "uPC5METokY17",
        "outputId": "7c62e4fd-2316-4f18-9b0f-7ab0f1bbe25b"
      },
      "execution_count": null,
      "outputs": [
        {
          "output_type": "stream",
          "name": "stdout",
          "text": [
            "Looking in indexes: https://pypi.org/simple, https://us-python.pkg.dev/colab-wheels/public/simple/\n",
            "Requirement already satisfied: pycryptodome in /usr/local/lib/python3.10/dist-packages (3.18.0)\n",
            "Looking in indexes: https://pypi.org/simple, https://us-python.pkg.dev/colab-wheels/public/simple/\n",
            "Requirement already satisfied: lorem-text in /usr/local/lib/python3.10/dist-packages (2.1)\n",
            "Requirement already satisfied: Click>=7.0 in /usr/local/lib/python3.10/dist-packages (from lorem-text) (8.1.3)\n"
          ]
        }
      ]
    },
    {
      "cell_type": "code",
      "execution_count": null,
      "metadata": {
        "id": "jrsALLMzhOgC"
      },
      "outputs": [],
      "source": [
        "# ARC4\n",
        "import Crypto \n",
        "from Crypto.Cipher import ARC4\n",
        "import secrets\n",
        "import time\n",
        "from lorem_text import lorem"
      ]
    },
    {
      "cell_type": "code",
      "source": [
        "# Generar un texto de estilo \"Lorem Ipsum\" con un número específico de palabras\n",
        "def generar_lorem(num_palabras):\n",
        "    texto = lorem.words(num_palabras)\n",
        "    return texto"
      ],
      "metadata": {
        "id": "qp2h926FhpMB"
      },
      "execution_count": null,
      "outputs": []
    },
    {
      "cell_type": "markdown",
      "source": [
        "##1. Leer un archivo con el texto del mensaje a cifrar."
      ],
      "metadata": {
        "id": "YbRqD4TShv4A"
      }
    },
    {
      "cell_type": "code",
      "source": [
        "numPalabras = int(input(\"Ingrese el numero de palabras a encriptar:\"))"
      ],
      "metadata": {
        "colab": {
          "base_uri": "https://localhost:8080/"
        },
        "id": "aUBmKYS-yfwO",
        "outputId": "bcafb545-c2d6-4323-8da5-80b223cfb48c"
      },
      "execution_count": null,
      "outputs": [
        {
          "name": "stdout",
          "output_type": "stream",
          "text": [
            "Ingrese el numero de palabras a encriptar:1000000\n"
          ]
        }
      ]
    },
    {
      "cell_type": "code",
      "source": [
        "inicio = time.time()\n",
        "\n",
        "mensaje = generar_lorem(numPalabras).encode()\n",
        "\n",
        "fin = time.time()\n",
        "\n",
        "duracion = fin - inicio\n",
        "print(\"Tiempo de ejecución:\", duracion*1000, \"milisegundos\")"
      ],
      "metadata": {
        "colab": {
          "base_uri": "https://localhost:8080/"
        },
        "id": "07p4V0h0hss5",
        "outputId": "937fb1f2-55aa-4a8d-a0de-199ce20fd4ac"
      },
      "execution_count": null,
      "outputs": [
        {
          "output_type": "stream",
          "name": "stdout",
          "text": [
            "Tiempo de ejecución: 498.23474884033203 milisegundos\n"
          ]
        }
      ]
    },
    {
      "cell_type": "markdown",
      "source": [
        "##2. Generar e imprimir la(las) claves de cifrado y/o \n"
      ],
      "metadata": {
        "id": "YL6Uzq_yh2bu"
      }
    },
    {
      "cell_type": "code",
      "source": [
        "inicio = time.time()\n",
        "\n",
        "clave = secrets.token_bytes(16) \n",
        "cipher = ARC4.new(clave) \n",
        "print('Objeto:', cipher)\n",
        "print('Clave:', clave)\n",
        "\n",
        "fin = time.time()\n",
        "duracion = fin - inicio\n",
        "print(\"Tiempo de ejecución:\", duracion*1000, \"milisegundos\")\n"
      ],
      "metadata": {
        "colab": {
          "base_uri": "https://localhost:8080/"
        },
        "id": "wt-PUgFOiYzG",
        "outputId": "588095e4-6df4-4eb9-d508-bd12fb865a28"
      },
      "execution_count": null,
      "outputs": [
        {
          "output_type": "stream",
          "name": "stdout",
          "text": [
            "Objeto: <Crypto.Cipher.ARC4.ARC4Cipher object at 0x7f9c41cc2770>\n",
            "Clave: b\"\\xbc\\x91\\x0c\\\\\\x8d\\xa4\\xe4-\\xed\\xa5@\\x03*\\xc4'\\xe6\"\n",
            "Tiempo de ejecución: 10.073184967041016 milisegundos\n"
          ]
        }
      ]
    },
    {
      "cell_type": "markdown",
      "source": [
        "##3. Cifrar e imprimir el texto."
      ],
      "metadata": {
        "id": "3e2I3uunjOu8"
      }
    },
    {
      "cell_type": "code",
      "source": [
        "inicio = time.time() \n",
        "\n",
        "texto_cifrado = cipher.encrypt(mensaje)\n",
        "#print('Texto cifrado:', texto_cifrado)\n",
        "\n",
        "archi1=open(\"datosCifrado.txt\", \"w\")\n",
        "archi1.write(str(texto_cifrado))\n",
        "archi1.close()\n",
        "\n",
        "\n",
        "fin = time.time()    \n",
        "duracion = fin - inicio\n",
        "print(\"Tiempo de ejecución:\", duracion*1000, \"milisegundos\")"
      ],
      "metadata": {
        "colab": {
          "base_uri": "https://localhost:8080/"
        },
        "id": "-BN2vjVahYUw",
        "outputId": "b4d5326d-bd5f-4ac6-d6df-2266900d7d22"
      },
      "execution_count": null,
      "outputs": [
        {
          "output_type": "stream",
          "name": "stdout",
          "text": [
            "Tiempo de ejecución: 188.2917881011963 milisegundos\n"
          ]
        }
      ]
    },
    {
      "cell_type": "markdown",
      "source": [
        "##4. Descifrar e imprimir el texto."
      ],
      "metadata": {
        "id": "ummqDeJbjXjh"
      }
    },
    {
      "cell_type": "code",
      "source": [
        "inicio = time.time() \n",
        "\n",
        "\n",
        "cipher = ARC4.new(clave)\n",
        "texto_descifrado = cipher.decrypt(texto_cifrado)\n",
        "#print(\"Texto descifrado:\", texto_descifrado.decode())\n",
        "\n",
        "archi1=open(\"datosDecifrado.txt\", \"w\")\n",
        "archi1.write(texto_descifrado.decode())\n",
        "archi1.close()\n",
        "\n",
        "\n",
        "\n",
        "fin = time.time()    \n",
        "duracion = fin - inicio\n",
        "print(\"Tiempo de ejecución:\", duracion*1000, \"milisegundos\")"
      ],
      "metadata": {
        "colab": {
          "base_uri": "https://localhost:8080/"
        },
        "id": "GIWf0_vihd5M",
        "outputId": "478a1979-31a9-4584-ce09-126943aadc1e"
      },
      "execution_count": null,
      "outputs": [
        {
          "output_type": "stream",
          "name": "stdout",
          "text": [
            "Tiempo de ejecución: 85.06155014038086 milisegundos\n"
          ]
        }
      ]
    }
  ]
}